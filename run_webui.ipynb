{
 "cells": [
  {
   "cell_type": "markdown",
   "metadata": {},
   "source": [
    "# Use Tips:\n",
    "\n",
    "use `WebuiUtils(help=True)` to get help info\n",
    "\n",
    "e.g. if you want to set `--inbrowser   Auto launch gradio in browser`\n",
    "\n",
    "```python\n",
    "from webui_utils import WebuiUtils\n",
    "webui_utils = WebuiUtils(inbrowser=True)\n",
    "webui_utils.queue().launch()\n",
    "```\n",
    "\n",
    "The args of `queue()` and `launch()` are the same as `gradio.Blocks.queue()` and `gradio.Blocks.launch()`\n"
   ]
  },
  {
   "cell_type": "code",
   "execution_count": 1,
   "metadata": {},
   "outputs": [
    {
     "name": "stderr",
     "output_type": "stream",
     "text": [
      "e:\\GitHub\\sd-webui-fast-dataset-maker\\venv\\lib\\site-packages\\tqdm\\auto.py:21: TqdmWarning: IProgress not found. Please update jupyter and ipywidgets. See https://ipywidgets.readthedocs.io/en/stable/user_install.html\n",
      "  from .autonotebook import tqdm as notebook_tqdm\n"
     ]
    },
    {
     "name": "stdout",
     "output_type": "stream",
     "text": [
      "Deduplicate-Cluster-Image: Add e:\\GitHub\\sd-webui-fast-dataset-maker\\extensions\\image_deduplicate_cluster_webui to sys.path\n",
      "usage: ipykernel_launcher.py [-h] [--inbrowser] [--share] [--debug]\n",
      "                             [--prevent_thread_lock]\n",
      "                             [--server_port SERVER_PORT]\n",
      "                             [--server_name SERVER_NAME] [--enable_queue]\n",
      "                             [--concurrency_count CONCURRENCY_COUNT]\n",
      "                             [--device-id DEVICE_ID] [--disable_tag_editor]\n",
      "                             [--disable_deduplicate_cluster]\n",
      "                             [--sd_webui_config SD_WEBUI_CONFIG]\n",
      "                             [--update_image_index]\n",
      "                             [--extra_paths EXTRA_PATHS [EXTRA_PATHS ...]]\n",
      "                             [--disable_image_browsing]\n",
      "                             [--disable_Gelbooru_Downloader]\n",
      "\n",
      "options:\n",
      "  -h, --help            show this help message and exit\n",
      "  --inbrowser           Auto launch gradio in browser\n",
      "  --share               Launch gradio with share=True option and make\n",
      "                        accessible from internet\n",
      "  --debug               if True, blocks the main thread from running. If\n",
      "                        running in Google Colab, this is needed to print the\n",
      "                        errors in the cell output.\n",
      "  --prevent_thread_lock\n",
      "                        If True, the interface will block the main thread\n",
      "                        while the server is running.\n",
      "  --server_port SERVER_PORT\n",
      "                        will start gradio app on this port (if available). If\n",
      "                        None, will search for an available port starting at\n",
      "                        7860.\n",
      "  --server_name SERVER_NAME\n",
      "                        to make app accessible on local network, set this to\n",
      "                        \"0.0.0.0\". If None, will use \"127.0.0.1\".\n",
      "  --enable_queue        if True, inference requests will be served through a\n",
      "                        queue instead of with parallel threads. Required for\n",
      "                        longer inference times (> 1min) to prevent timeout.\n",
      "                        The default option is False.\n",
      "  --concurrency_count CONCURRENCY_COUNT\n",
      "                        Number of worker threads that will be processing\n",
      "                        requests from the queue concurrently. Increasing this\n",
      "                        number will increase the rate at which requests are\n",
      "                        processed, but will also increase the memory usage of\n",
      "                        the queue.\n",
      "  --device-id DEVICE_ID\n",
      "                        CUDA Device ID to use interrogators\n",
      "  --disable_tag_editor  Disable dataset_tag_editor_standalone\n",
      "  --disable_deduplicate_cluster\n",
      "                        Disable image_deduplicate_cluster_webui\n",
      "  --sd_webui_config SD_WEBUI_CONFIG\n",
      "                        The path to the config file\n",
      "  --update_image_index  Update the image index\n",
      "  --extra_paths EXTRA_PATHS [EXTRA_PATHS ...]\n",
      "                        Extra paths to use, will be added to Quick Move.\n",
      "  --disable_image_browsing\n",
      "                        Disable sd_webui_infinite_image_browsing\n",
      "  --disable_Gelbooru_Downloader\n",
      "                        Disable Gelbooru_API_Downloader\n"
     ]
    },
    {
     "ename": "SystemExit",
     "evalue": "0",
     "output_type": "error",
     "traceback": [
      "An exception has occurred, use %tb to see the full traceback.\n",
      "\u001b[1;31mSystemExit\u001b[0m\u001b[1;31m:\u001b[0m 0\n"
     ]
    },
    {
     "name": "stderr",
     "output_type": "stream",
     "text": [
      "e:\\GitHub\\sd-webui-fast-dataset-maker\\venv\\lib\\site-packages\\IPython\\core\\interactiveshell.py:3516: UserWarning: To exit: use 'exit', 'quit', or Ctrl-D.\n",
      "  warn(\"To exit: use 'exit', 'quit', or Ctrl-D.\", stacklevel=1)\n"
     ]
    }
   ],
   "source": [
    "from webui import WebuiUtils\n",
    "\n",
    "# WebuiUtils(help=True) # get help info\n",
    "\n",
    "webui_utils = WebuiUtils()\n",
    "\n",
    "webui_utils.queue().launch()\n",
    "\n"
   ]
  }
 ],
 "metadata": {
  "kernelspec": {
   "display_name": "venv",
   "language": "python",
   "name": "python3"
  },
  "language_info": {
   "codemirror_mode": {
    "name": "ipython",
    "version": 3
   },
   "file_extension": ".py",
   "mimetype": "text/x-python",
   "name": "python",
   "nbconvert_exporter": "python",
   "pygments_lexer": "ipython3",
   "version": "3.10.8"
  },
  "orig_nbformat": 4
 },
 "nbformat": 4,
 "nbformat_minor": 2
}
